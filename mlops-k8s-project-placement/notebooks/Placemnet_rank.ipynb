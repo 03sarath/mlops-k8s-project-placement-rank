{
 "cells": [
  {
   "cell_type": "markdown",
   "metadata": {},
   "source": [
    "## ML_Zoomcamp October 2021\n",
    "   \n",
    "    PROJECT 1 by Subramanian Hariharan"
   ]
  },
  {
   "cell_type": "markdown",
   "metadata": {},
   "source": [
    "## Problem Statement\n",
    "\n",
    "A campus recruitment program is a program conducted within universities or other educational institutions that helps students as they near graduation find employment. As part of this program, educational institutions partner with corporations that wish to recruit from student populations.\n",
    "\n",
    "The placement of a student depends on various factors like their performance in school and colleges, work experience, etc.  \n",
    "\n",
    "The objective here is to predict if a student will get placed or not.\n",
    "\n",
    " \n",
    "Evaluation Criteria \n",
    "\n",
    "Submissions are evaluated using the Accuracy Score.\n",
    "\n",
    "\n"
   ]
  },
  {
   "cell_type": "markdown",
   "metadata": {},
   "source": [
    "This data set consists of Placement data of students in a XYZ campus. It includes secondary and higher secondary school percentage and specialization.\n",
    "\n",
    " \n",
    "\n",
    "### Data Description\n",
    "\n",
    "Some of the columns in the data are listed below:\n",
    "\n",
    "gender: Gender of the candidate (male/female)\n",
    "\n",
    "ssc_b: senior secondary board\n",
    "\n",
    "ssc_p: senior secondary percentage scored\n",
    "\n",
    "hsc_b: higher secondary board\n",
    "\n",
    "hsc_p: higher secondary percentage scored\n",
    "\n",
    "hsc_s: higher secondary subject\n",
    "\n",
    "degree_p: percentage scored in degree/graduation\n",
    "\n",
    "etest_p: entrance test percentage scored\n",
    "\n",
    "mba_p: mba percentage scored\n",
    "\n",
    "specialization: mba specialization\n",
    "\n",
    "workex: work experience\n",
    "\n",
    "status: placed or not placed (target variable)"
   ]
  },
  {
   "cell_type": "markdown",
   "metadata": {},
   "source": [
    "source of data https://dphi.tech/challenges/data-sprint-42-campus-recruitment/146/overview/about"
   ]
  },
  {
   "cell_type": "code",
   "execution_count": 321,
   "metadata": {},
   "outputs": [],
   "source": [
    "#import all libraries\n",
    "import pandas as pd \n",
    "import numpy as np\n",
    "import matplotlib.pyplot as plt\n",
    "import seaborn as sns\n",
    "\n",
    "import warnings\n",
    "warnings.filterwarnings('ignore',category=DeprecationWarning)"
   ]
  },
  {
   "cell_type": "code",
   "execution_count": 322,
   "metadata": {},
   "outputs": [],
   "source": [
    "#import train and test dataset\n",
    "df_full_train = pd.read_csv('Train_Data.csv')\n",
    "df_test = pd.read_csv('Test_Data.csv')"
   ]
  },
  {
   "cell_type": "code",
   "execution_count": 323,
   "metadata": {},
   "outputs": [
    {
     "data": {
      "text/plain": [
       "((670, 13), (448, 12))"
      ]
     },
     "execution_count": 323,
     "metadata": {},
     "output_type": "execute_result"
    }
   ],
   "source": [
    "#check shape of train and test data\n",
    "df_full_train.shape,df_test.shape"
   ]
  },
  {
   "cell_type": "code",
   "execution_count": 324,
   "metadata": {},
   "outputs": [
    {
     "data": {
      "text/html": [
       "<div>\n",
       "<style scoped>\n",
       "    .dataframe tbody tr th:only-of-type {\n",
       "        vertical-align: middle;\n",
       "    }\n",
       "\n",
       "    .dataframe tbody tr th {\n",
       "        vertical-align: top;\n",
       "    }\n",
       "\n",
       "    .dataframe thead th {\n",
       "        text-align: right;\n",
       "    }\n",
       "</style>\n",
       "<table border=\"1\" class=\"dataframe\">\n",
       "  <thead>\n",
       "    <tr style=\"text-align: right;\">\n",
       "      <th></th>\n",
       "      <th>gender</th>\n",
       "      <th>ssc_p</th>\n",
       "      <th>ssc_b</th>\n",
       "      <th>hsc_p</th>\n",
       "      <th>hsc_b</th>\n",
       "      <th>hsc_s</th>\n",
       "      <th>degree_p</th>\n",
       "      <th>degree_t</th>\n",
       "      <th>etest_p</th>\n",
       "      <th>mba_p</th>\n",
       "      <th>specialisation</th>\n",
       "      <th>workex</th>\n",
       "      <th>status</th>\n",
       "    </tr>\n",
       "  </thead>\n",
       "  <tbody>\n",
       "    <tr>\n",
       "      <th>0</th>\n",
       "      <td>M</td>\n",
       "      <td>73.976975</td>\n",
       "      <td>Central</td>\n",
       "      <td>77.392691</td>\n",
       "      <td>Others</td>\n",
       "      <td>Science</td>\n",
       "      <td>73.623151</td>\n",
       "      <td>Sci&amp;Tech</td>\n",
       "      <td>84.498310</td>\n",
       "      <td>67.207006</td>\n",
       "      <td>Mkt&amp;HR</td>\n",
       "      <td>Yes</td>\n",
       "      <td>Placed</td>\n",
       "    </tr>\n",
       "    <tr>\n",
       "      <th>1</th>\n",
       "      <td>M</td>\n",
       "      <td>62.000000</td>\n",
       "      <td>Others</td>\n",
       "      <td>62.000000</td>\n",
       "      <td>Others</td>\n",
       "      <td>Commerce</td>\n",
       "      <td>60.000000</td>\n",
       "      <td>Comm&amp;Mgmt</td>\n",
       "      <td>63.000000</td>\n",
       "      <td>52.380000</td>\n",
       "      <td>Mkt&amp;HR</td>\n",
       "      <td>Yes</td>\n",
       "      <td>Placed</td>\n",
       "    </tr>\n",
       "    <tr>\n",
       "      <th>2</th>\n",
       "      <td>M</td>\n",
       "      <td>80.965242</td>\n",
       "      <td>Others</td>\n",
       "      <td>67.104275</td>\n",
       "      <td>Others</td>\n",
       "      <td>Science</td>\n",
       "      <td>72.482621</td>\n",
       "      <td>Sci&amp;Tech</td>\n",
       "      <td>91.343588</td>\n",
       "      <td>71.392313</td>\n",
       "      <td>Mkt&amp;Fin</td>\n",
       "      <td>No</td>\n",
       "      <td>Placed</td>\n",
       "    </tr>\n",
       "    <tr>\n",
       "      <th>3</th>\n",
       "      <td>M</td>\n",
       "      <td>52.000000</td>\n",
       "      <td>Others</td>\n",
       "      <td>65.000000</td>\n",
       "      <td>Others</td>\n",
       "      <td>Arts</td>\n",
       "      <td>57.000000</td>\n",
       "      <td>Others</td>\n",
       "      <td>75.000000</td>\n",
       "      <td>59.810000</td>\n",
       "      <td>Mkt&amp;Fin</td>\n",
       "      <td>Yes</td>\n",
       "      <td>Not Placed</td>\n",
       "    </tr>\n",
       "    <tr>\n",
       "      <th>4</th>\n",
       "      <td>F</td>\n",
       "      <td>69.000000</td>\n",
       "      <td>Central</td>\n",
       "      <td>62.000000</td>\n",
       "      <td>Central</td>\n",
       "      <td>Science</td>\n",
       "      <td>66.000000</td>\n",
       "      <td>Sci&amp;Tech</td>\n",
       "      <td>75.000000</td>\n",
       "      <td>67.990000</td>\n",
       "      <td>Mkt&amp;HR</td>\n",
       "      <td>No</td>\n",
       "      <td>Not Placed</td>\n",
       "    </tr>\n",
       "  </tbody>\n",
       "</table>\n",
       "</div>"
      ],
      "text/plain": [
       "  gender      ssc_p    ssc_b      hsc_p    hsc_b     hsc_s   degree_p  \\\n",
       "0      M  73.976975  Central  77.392691   Others   Science  73.623151   \n",
       "1      M  62.000000   Others  62.000000   Others  Commerce  60.000000   \n",
       "2      M  80.965242   Others  67.104275   Others   Science  72.482621   \n",
       "3      M  52.000000   Others  65.000000   Others      Arts  57.000000   \n",
       "4      F  69.000000  Central  62.000000  Central   Science  66.000000   \n",
       "\n",
       "    degree_t    etest_p      mba_p specialisation workex      status  \n",
       "0   Sci&Tech  84.498310  67.207006         Mkt&HR    Yes      Placed  \n",
       "1  Comm&Mgmt  63.000000  52.380000         Mkt&HR    Yes      Placed  \n",
       "2   Sci&Tech  91.343588  71.392313        Mkt&Fin     No      Placed  \n",
       "3     Others  75.000000  59.810000        Mkt&Fin    Yes  Not Placed  \n",
       "4   Sci&Tech  75.000000  67.990000         Mkt&HR     No  Not Placed  "
      ]
     },
     "execution_count": 324,
     "metadata": {},
     "output_type": "execute_result"
    }
   ],
   "source": [
    "df_full_train.head()"
   ]
  },
  {
   "cell_type": "code",
   "execution_count": 325,
   "metadata": {},
   "outputs": [
    {
     "name": "stdout",
     "output_type": "stream",
     "text": [
      "<class 'pandas.core.frame.DataFrame'>\n",
      "RangeIndex: 670 entries, 0 to 669\n",
      "Data columns (total 13 columns):\n",
      " #   Column          Non-Null Count  Dtype  \n",
      "---  ------          --------------  -----  \n",
      " 0   gender          670 non-null    object \n",
      " 1   ssc_p           670 non-null    float64\n",
      " 2   ssc_b           670 non-null    object \n",
      " 3   hsc_p           670 non-null    float64\n",
      " 4   hsc_b           670 non-null    object \n",
      " 5   hsc_s           670 non-null    object \n",
      " 6   degree_p        670 non-null    float64\n",
      " 7   degree_t        670 non-null    object \n",
      " 8   etest_p         670 non-null    float64\n",
      " 9   mba_p           670 non-null    float64\n",
      " 10  specialisation  670 non-null    object \n",
      " 11  workex          670 non-null    object \n",
      " 12  status          670 non-null    object \n",
      "dtypes: float64(5), object(8)\n",
      "memory usage: 68.2+ KB\n"
     ]
    }
   ],
   "source": [
    "df_full_train.info()"
   ]
  },
  {
   "cell_type": "code",
   "execution_count": 326,
   "metadata": {},
   "outputs": [],
   "source": [
    "# separating numeric and cat columns for further analysis\n",
    "numeric_col = list(df_full_train.select_dtypes(exclude='object').columns)\n",
    "cat_columns = list(df_full_train.select_dtypes(include ='object').columns)"
   ]
  },
  {
   "cell_type": "code",
   "execution_count": 327,
   "metadata": {},
   "outputs": [
    {
     "data": {
      "text/plain": [
       "['ssc_p', 'hsc_p', 'degree_p', 'etest_p', 'mba_p']"
      ]
     },
     "execution_count": 327,
     "metadata": {},
     "output_type": "execute_result"
    }
   ],
   "source": [
    "numeric_col"
   ]
  },
  {
   "cell_type": "code",
   "execution_count": 328,
   "metadata": {},
   "outputs": [
    {
     "data": {
      "text/plain": [
       "['gender', 'ssc_b', 'hsc_b', 'hsc_s', 'degree_t', 'specialisation', 'workex']"
      ]
     },
     "execution_count": 328,
     "metadata": {},
     "output_type": "execute_result"
    }
   ],
   "source": [
    "cat_columns.remove('status')\n",
    "cat_columns"
   ]
  },
  {
   "cell_type": "code",
   "execution_count": 329,
   "metadata": {},
   "outputs": [
    {
     "data": {
      "text/plain": [
       "0"
      ]
     },
     "execution_count": 329,
     "metadata": {},
     "output_type": "execute_result"
    }
   ],
   "source": [
    "#checking for null values\n",
    "df_full_train.isnull().sum().sum()"
   ]
  },
  {
   "cell_type": "code",
   "execution_count": 330,
   "metadata": {},
   "outputs": [
    {
     "data": {
      "text/plain": [
       "0"
      ]
     },
     "execution_count": 330,
     "metadata": {},
     "output_type": "execute_result"
    }
   ],
   "source": [
    "df_test.isnull().sum().sum()"
   ]
  },
  {
   "cell_type": "markdown",
   "metadata": {},
   "source": [
    "There are no null values in the dataset (both train and test)"
   ]
  },
  {
   "cell_type": "code",
   "execution_count": 331,
   "metadata": {},
   "outputs": [
    {
     "data": {
      "text/html": [
       "<div>\n",
       "<style scoped>\n",
       "    .dataframe tbody tr th:only-of-type {\n",
       "        vertical-align: middle;\n",
       "    }\n",
       "\n",
       "    .dataframe tbody tr th {\n",
       "        vertical-align: top;\n",
       "    }\n",
       "\n",
       "    .dataframe thead th {\n",
       "        text-align: right;\n",
       "    }\n",
       "</style>\n",
       "<table border=\"1\" class=\"dataframe\">\n",
       "  <thead>\n",
       "    <tr style=\"text-align: right;\">\n",
       "      <th></th>\n",
       "      <th>count</th>\n",
       "      <th>mean</th>\n",
       "      <th>std</th>\n",
       "      <th>min</th>\n",
       "      <th>25%</th>\n",
       "      <th>50%</th>\n",
       "      <th>75%</th>\n",
       "      <th>max</th>\n",
       "    </tr>\n",
       "  </thead>\n",
       "  <tbody>\n",
       "    <tr>\n",
       "      <th>ssc_p</th>\n",
       "      <td>670.0</td>\n",
       "      <td>68.960017</td>\n",
       "      <td>10.182563</td>\n",
       "      <td>42.864579</td>\n",
       "      <td>61.619318</td>\n",
       "      <td>68.332563</td>\n",
       "      <td>77.130019</td>\n",
       "      <td>89.400000</td>\n",
       "    </tr>\n",
       "    <tr>\n",
       "      <th>hsc_p</th>\n",
       "      <td>670.0</td>\n",
       "      <td>65.203006</td>\n",
       "      <td>11.222577</td>\n",
       "      <td>37.106247</td>\n",
       "      <td>60.431420</td>\n",
       "      <td>64.753270</td>\n",
       "      <td>71.390402</td>\n",
       "      <td>97.700000</td>\n",
       "    </tr>\n",
       "    <tr>\n",
       "      <th>degree_p</th>\n",
       "      <td>670.0</td>\n",
       "      <td>65.229034</td>\n",
       "      <td>7.157608</td>\n",
       "      <td>50.000000</td>\n",
       "      <td>60.000000</td>\n",
       "      <td>64.906329</td>\n",
       "      <td>70.271632</td>\n",
       "      <td>91.000000</td>\n",
       "    </tr>\n",
       "    <tr>\n",
       "      <th>etest_p</th>\n",
       "      <td>670.0</td>\n",
       "      <td>73.740025</td>\n",
       "      <td>12.101840</td>\n",
       "      <td>50.000000</td>\n",
       "      <td>64.199327</td>\n",
       "      <td>72.677821</td>\n",
       "      <td>83.955186</td>\n",
       "      <td>97.938047</td>\n",
       "    </tr>\n",
       "    <tr>\n",
       "      <th>mba_p</th>\n",
       "      <td>670.0</td>\n",
       "      <td>62.993108</td>\n",
       "      <td>5.126855</td>\n",
       "      <td>51.290000</td>\n",
       "      <td>59.431996</td>\n",
       "      <td>62.481656</td>\n",
       "      <td>66.864202</td>\n",
       "      <td>77.890000</td>\n",
       "    </tr>\n",
       "  </tbody>\n",
       "</table>\n",
       "</div>"
      ],
      "text/plain": [
       "          count       mean        std        min        25%        50%  \\\n",
       "ssc_p     670.0  68.960017  10.182563  42.864579  61.619318  68.332563   \n",
       "hsc_p     670.0  65.203006  11.222577  37.106247  60.431420  64.753270   \n",
       "degree_p  670.0  65.229034   7.157608  50.000000  60.000000  64.906329   \n",
       "etest_p   670.0  73.740025  12.101840  50.000000  64.199327  72.677821   \n",
       "mba_p     670.0  62.993108   5.126855  51.290000  59.431996  62.481656   \n",
       "\n",
       "                75%        max  \n",
       "ssc_p     77.130019  89.400000  \n",
       "hsc_p     71.390402  97.700000  \n",
       "degree_p  70.271632  91.000000  \n",
       "etest_p   83.955186  97.938047  \n",
       "mba_p     66.864202  77.890000  "
      ]
     },
     "execution_count": 331,
     "metadata": {},
     "output_type": "execute_result"
    }
   ],
   "source": [
    "df_full_train[numeric_col].describe().T #looking at descriptive stat of numeric cols"
   ]
  },
  {
   "cell_type": "markdown",
   "metadata": {},
   "source": [
    "The numeric cols basically consist of gades scored in various qualifying exams . There seems to no major skew in the numeric data . we will have a look at the distribution to confirm that"
   ]
  },
  {
   "cell_type": "code",
   "execution_count": 332,
   "metadata": {},
   "outputs": [
    {
     "data": {
      "image/png": "[encoded data removed]",
      "text/plain": [
       "<Figure size 864x864 with 5 Axes>"
      ]
     },
     "metadata": {
      "needs_background": "light"
     },
     "output_type": "display_data"
    }
   ],
   "source": [
    "count=1\n",
    "n=5\n",
    "plt.figure(figsize=(12,12))\n",
    "for i in numeric_col:\n",
    "    plt.subplot(n,2,count)\n",
    "    sns.distplot(df_full_train[i],label=[str(i)])\n",
    "    plt.text(70,0.02, f'skew={str(round(df_full_train[i].skew(),2))}', fontsize =8)\n",
    "    plt.legend()\n",
    "    count+=1\n",
    "\n",
    "plt.show()"
   ]
  },
  {
   "cell_type": "markdown",
   "metadata": {},
   "source": [
    "The examination of distribution reveals no major skew in the data. We may not need a transformation to normalise the distribution"
   ]
  },
  {
   "cell_type": "code",
   "execution_count": 333,
   "metadata": {},
   "outputs": [
    {
     "data": {
      "text/plain": [
       "Placed        0.655224\n",
       "Not Placed    0.344776\n",
       "Name: status, dtype: float64"
      ]
     },
     "execution_count": 333,
     "metadata": {},
     "output_type": "execute_result"
    }
   ],
   "source": [
    "df_full_train['status'].value_counts(normalize=True)"
   ]
  },
  {
   "cell_type": "code",
   "execution_count": 334,
   "metadata": {},
   "outputs": [
    {
     "data": {
      "image/png": "[encoded data removed]",
      "text/plain": [
       "<Figure size 432x288 with 1 Axes>"
      ]
     },
     "metadata": {
      "needs_background": "light"
     },
     "output_type": "display_data"
    }
   ],
   "source": [
    "# lets examine the distribution of target variable\n",
    "sns.countplot(df_full_train['status'],color='g')\n",
    "plt.show()"
   ]
  },
  {
   "cell_type": "markdown",
   "metadata": {},
   "source": [
    "The target variable is not unbalanced for us to correct it by oversampling/undersampling/SMOTE"
   ]
  },
  {
   "cell_type": "code",
   "execution_count": 335,
   "metadata": {},
   "outputs": [
    {
     "name": "stdout",
     "output_type": "stream",
     "text": [
      "Unique values in gender are \n",
      " ['M' 'F']\n",
      "Unique values in ssc_b are \n",
      " ['Central' 'Others']\n",
      "Unique values in hsc_b are \n",
      " ['Others' 'Central']\n",
      "Unique values in hsc_s are \n",
      " ['Science' 'Commerce' 'Arts']\n",
      "Unique values in degree_t are \n",
      " ['Sci&Tech' 'Comm&Mgmt' 'Others']\n",
      "Unique values in specialisation are \n",
      " ['Mkt&HR' 'Mkt&Fin']\n",
      "Unique values in workex are \n",
      " ['Yes' 'No']\n"
     ]
    }
   ],
   "source": [
    "for col in cat_columns: #unique values in cat columns\n",
    "    print(f'Unique values in {col} are \\n {df_full_train[col].unique()}')"
   ]
  },
  {
   "cell_type": "code",
   "execution_count": 336,
   "metadata": {},
   "outputs": [
    {
     "data": {
      "image/png": "[encoded data removed]",
      "text/plain": [
       "<Figure size 864x1152 with 7 Axes>"
      ]
     },
     "metadata": {
      "needs_background": "light"
     },
     "output_type": "display_data"
    }
   ],
   "source": [
    "# looking at distribution of cat features\n",
    "count=1\n",
    "n=8\n",
    "plt.figure(figsize=(12,16))\n",
    "for i in cat_columns:\n",
    "    plt.subplot(n,3,count)\n",
    "    sns.countplot(df_full_train[i],hue=df_full_train['status'])\n",
    "    plt.legend()\n",
    "    plt.tight_layout()\n",
    "    count+=1\n",
    "\n",
    "plt.show()"
   ]
  },
  {
   "cell_type": "markdown",
   "metadata": {},
   "source": [
    "Following observations are relevant for above plots :\n",
    "\n",
    "- More Males have status placed . The ratio of placed/not placed for women are higher than males\n",
    "\n",
    "- ssc_b with central board has higher chance of placed. If ur from other Boards u have equal chance of placed or not placed\n",
    "\n",
    "- hsc_b with other board has higher placement than central. But from central hsc_b there is more chance of placed thna not placed\n",
    "\n",
    "- Science stream has got max placement in hsc_s\n",
    "\n",
    "- Science stream has max placement in degree_t\n",
    "\n",
    "- in MBA marketing and fin has more placement\n",
    "\n",
    "- if u have work experience there is a high chance of placed. If there is no work experience there is equal chance of placed/not placed\n",
    "\n"
   ]
  },
  {
   "cell_type": "markdown",
   "metadata": {},
   "source": [
    "Mutual information is calculated between two variables and measures the reduction in uncertainty for one variable given a known value of the other variable."
   ]
  },
  {
   "cell_type": "code",
   "execution_count": 337,
   "metadata": {},
   "outputs": [
    {
     "name": "stdout",
     "output_type": "stream",
     "text": [
      "Mutual Info score between gender and Status is 0.024942299605664506\n",
      "Mutual Info score between ssc_b and Status is 0.022329425622135357\n",
      "Mutual Info score between hsc_b and Status is 0.021657971949285787\n",
      "Mutual Info score between hsc_s and Status is 0.02236624345927475\n",
      "Mutual Info score between degree_t and Status is 0.02630330123719357\n",
      "Mutual Info score between specialisation and Status is 0.09428317476094494\n",
      "Mutual Info score between workex and Status is 0.17249254727638466\n"
     ]
    }
   ],
   "source": [
    "from sklearn.metrics import mutual_info_score\n",
    "for col in cat_columns:\n",
    "    print(f'Mutual Info score between {col} and Status is {mutual_info_score(df_full_train[col],df_full_train.status)}')"
   ]
  },
  {
   "cell_type": "markdown",
   "metadata": {},
   "source": [
    "The MI score indicates workex has max score indicative of stromng feature to predict status "
   ]
  },
  {
   "cell_type": "code",
   "execution_count": 338,
   "metadata": {},
   "outputs": [
    {
     "name": "stdout",
     "output_type": "stream",
     "text": [
      "chi-square test between gender and target variable status\n",
      "(30.24006879371943, 3.817409131376951e-08, 1, array([[ 67.23134328, 127.76865672],\n",
      "       [163.76865672, 311.23134328]]))\n",
      "\n",
      "\n",
      "chi-square test between ssc_b and target variable status\n",
      "(30.24006879371943, 3.817409131376951e-08, 1, array([[ 67.23134328, 127.76865672],\n",
      "       [163.76865672, 311.23134328]]))\n",
      "\n",
      "\n",
      "chi-square test between hsc_b and target variable status\n",
      "(30.24006879371943, 3.817409131376951e-08, 1, array([[ 67.23134328, 127.76865672],\n",
      "       [163.76865672, 311.23134328]]))\n",
      "\n",
      "\n",
      "chi-square test between hsc_s and target variable status\n",
      "(30.24006879371943, 3.817409131376951e-08, 1, array([[ 67.23134328, 127.76865672],\n",
      "       [163.76865672, 311.23134328]]))\n",
      "\n",
      "\n",
      "chi-square test between degree_t and target variable status\n",
      "(30.24006879371943, 3.817409131376951e-08, 1, array([[ 67.23134328, 127.76865672],\n",
      "       [163.76865672, 311.23134328]]))\n",
      "\n",
      "\n",
      "chi-square test between specialisation and target variable status\n",
      "(30.24006879371943, 3.817409131376951e-08, 1, array([[ 67.23134328, 127.76865672],\n",
      "       [163.76865672, 311.23134328]]))\n",
      "\n",
      "\n",
      "chi-square test between workex and target variable status\n",
      "(30.24006879371943, 3.817409131376951e-08, 1, array([[ 67.23134328, 127.76865672],\n",
      "       [163.76865672, 311.23134328]]))\n",
      "\n",
      "\n"
     ]
    }
   ],
   "source": [
    "# we will check chisquare stat checks for independence to see assciantion beytween cat features and target variable\n",
    "for col in cat_columns:\n",
    "    print(f'chi-square test between {col} and target variable status')\n",
    "    print(chi2_contingency(pd.crosstab(df_full_train['gender'],df_full_train.status)))\n",
    "    print(\"\\n\")"
   ]
  },
  {
   "cell_type": "markdown",
   "metadata": {},
   "source": [
    " We see that p value is almost 0 indicative of failure to accept Null Hypothesis and conclude that there is association betweeen two features"
   ]
  },
  {
   "cell_type": "code",
   "execution_count": 339,
   "metadata": {},
   "outputs": [],
   "source": [
    "#converting target variable to numeric\n",
    "df_full_train.status = (df_full_train.status == 'Placed').astype(int)"
   ]
  },
  {
   "cell_type": "code",
   "execution_count": 340,
   "metadata": {},
   "outputs": [
    {
     "data": {
      "text/plain": [
       "ssc_p       0.680949\n",
       "hsc_p       0.634795\n",
       "degree_p    0.537049\n",
       "etest_p     0.232942\n",
       "mba_p       0.265365\n",
       "dtype: float64"
      ]
     },
     "execution_count": 340,
     "metadata": {},
     "output_type": "execute_result"
    }
   ],
   "source": [
    "# getting correlation matrix for numerical features with target \n",
    "df_full_train[numeric_col].corrwith(df_full_train.status)"
   ]
  },
  {
   "cell_type": "markdown",
   "metadata": {},
   "source": [
    "We see that most of the continuos features are well correlated with target variable"
   ]
  },
  {
   "cell_type": "code",
   "execution_count": 341,
   "metadata": {},
   "outputs": [
    {
     "data": {
      "text/plain": [
       "array([1, 0])"
      ]
     },
     "execution_count": 341,
     "metadata": {},
     "output_type": "execute_result"
    }
   ],
   "source": [
    "df_full_train.status.unique()"
   ]
  },
  {
   "cell_type": "code",
   "execution_count": 342,
   "metadata": {},
   "outputs": [
    {
     "data": {
      "text/plain": [
       "array(['M', 'F'], dtype=object)"
      ]
     },
     "execution_count": 342,
     "metadata": {},
     "output_type": "execute_result"
    }
   ],
   "source": [
    "df_full_train.gender.unique()"
   ]
  },
  {
   "cell_type": "code",
   "execution_count": 343,
   "metadata": {},
   "outputs": [
    {
     "data": {
      "text/plain": [
       "0.655"
      ]
     },
     "execution_count": 343,
     "metadata": {},
     "output_type": "execute_result"
    }
   ],
   "source": [
    "global_mean = df_full_train.status.mean()\n",
    "round(global_mean, 3) #0.65 are status 1 or placed or in another word 'placement_rate'"
   ]
  },
  {
   "cell_type": "code",
   "execution_count": 344,
   "metadata": {},
   "outputs": [
    {
     "name": "stdout",
     "output_type": "stream",
     "text": [
      "gender == female: 0.815\n",
      "gender == male:   0.589\n"
     ]
    }
   ],
   "source": [
    "#feature importance\n",
    "female_mean = df_full_train[df_full_train.gender == 'F'].status.mean()\n",
    "print('gender == female:', round(female_mean, 3))\n",
    "\n",
    "male_mean = df_full_train[df_full_train.gender == 'M'].status.mean()\n",
    "print('gender == male:  ', round(male_mean, 3))"
   ]
  },
  {
   "cell_type": "code",
   "execution_count": 345,
   "metadata": {},
   "outputs": [
    {
     "data": {
      "text/plain": [
       "(1.24443665673734, 0.8996523198657234)"
      ]
     },
     "execution_count": 345,
     "metadata": {},
     "output_type": "execute_result"
    }
   ],
   "source": [
    "female_mean / global_mean, male_mean / global_mean"
   ]
  },
  {
   "cell_type": "markdown",
   "metadata": {},
   "source": [
    "The placement rate of female is higher than global mean whereas that of male are marginally lower than global mean.\n"
   ]
  },
  {
   "cell_type": "code",
   "execution_count": 346,
   "metadata": {
    "scrolled": true
   },
   "outputs": [
    {
     "name": "stdout",
     "output_type": "stream",
     "text": [
      "Placement rate for gender\n",
      "placement rate of M is 0.8996523198657234\n",
      "placement rate of F is 1.24443665673734\n",
      "\n",
      "\n"
     ]
    },
    {
     "data": {
      "image/png": "[encoded data removed]",
      "text/plain": [
       "<Figure size 432x288 with 1 Axes>"
      ]
     },
     "metadata": {
      "needs_background": "light"
     },
     "output_type": "display_data"
    },
    {
     "name": "stdout",
     "output_type": "stream",
     "text": [
      "Placement rate for ssc_b\n",
      "placement rate of Central is 1.1336310751588852\n",
      "placement rate of Others is 0.8238289285967637\n",
      "\n",
      "\n"
     ]
    },
    {
     "data": {
      "image/png": "[encoded data removed]",
      "text/plain": [
       "<Figure size 432x288 with 1 Axes>"
      ]
     },
     "metadata": {
      "needs_background": "light"
     },
     "output_type": "display_data"
    },
    {
     "name": "stdout",
     "output_type": "stream",
     "text": [
      "Placement rate for hsc_b\n",
      "placement rate of Others is 0.8902809415337889\n",
      "placement rate of Central is 1.1991539212495932\n",
      "\n",
      "\n"
     ]
    },
    {
     "data": {
      "image/png": "[encoded data removed]",
      "text/plain": [
       "<Figure size 432x288 with 1 Axes>"
      ]
     },
     "metadata": {
      "needs_background": "light"
     },
     "output_type": "display_data"
    },
    {
     "name": "stdout",
     "output_type": "stream",
     "text": [
      "Placement rate for hsc_s\n",
      "placement rate of Science is 0.9226547939531993\n",
      "placement rate of Commerce is 1.0401462501632255\n",
      "placement rate of Arts is 1.3798483477392578\n",
      "\n",
      "\n"
     ]
    },
    {
     "data": {
      "image/png": "[encoded data removed]",
      "text/plain": [
       "<Figure size 432x288 with 1 Axes>"
      ]
     },
     "metadata": {
      "needs_background": "light"
     },
     "output_type": "display_data"
    },
    {
     "name": "stdout",
     "output_type": "stream",
     "text": [
      "Placement rate for degree_t\n",
      "placement rate of Sci&Tech is 1.193639594763479\n",
      "placement rate of Comm&Mgmt is 0.9566108271299495\n",
      "placement rate of Others is 0.8005047121354236\n",
      "\n",
      "\n"
     ]
    },
    {
     "data": {
      "image/png": "[encoded data removed]",
      "text/plain": [
       "<Figure size 432x288 with 1 Axes>"
      ]
     },
     "metadata": {
      "needs_background": "light"
     },
     "output_type": "display_data"
    },
    {
     "name": "stdout",
     "output_type": "stream",
     "text": [
      "Placement rate for specialisation\n",
      "placement rate of Mkt&HR is 0.6924829157175398\n",
      "placement rate of Mkt&Fin is 1.30751708428246\n",
      "\n",
      "\n"
     ]
    },
    {
     "data": {
      "image/png": "[encoded data removed]",
      "text/plain": [
       "<Figure size 432x288 with 1 Axes>"
      ]
     },
     "metadata": {
      "needs_background": "light"
     },
     "output_type": "display_data"
    },
    {
     "name": "stdout",
     "output_type": "stream",
     "text": [
      "Placement rate for workex\n",
      "placement rate of Yes is 1.397534036128622\n",
      "placement rate of No is 0.5805162318151963\n",
      "\n",
      "\n"
     ]
    },
    {
     "data": {
      "image/png": "[encoded data removed]",
      "text/plain": [
       "<Figure size 432x288 with 1 Axes>"
      ]
     },
     "metadata": {
      "needs_background": "light"
     },
     "output_type": "display_data"
    }
   ],
   "source": [
    "for col in cat_columns:\n",
    "    print(f'Placement rate for {col}')\n",
    "    unique_values =df_full_train[col].unique()\n",
    "    placement_rate =[]\n",
    "    for element in unique_values:\n",
    "        element_placement_rate = (df_full_train[df_full_train[col] == element].status.mean()/global_mean)\n",
    "        placement_rate.append(element_placement_rate)\n",
    "        print(f'placement rate of {element} is {element_placement_rate}')\n",
    "    print('\\n')\n",
    "    sns.barplot(x=unique_values,y=placement_rate,label=col)\n",
    "    plt.axhline(1.0,color='red',label='global mean')\n",
    "    plt.legend()\n",
    "    plt.show()\n",
    "    "
   ]
  },
  {
   "cell_type": "markdown",
   "metadata": {},
   "source": [
    "We can see that whereever the ratio is > 1.0 , there is more likely to be 'placed'. The features female_gender,hsc_s_arts,degree_t_science, workex_yes are more likely to be placed as their placement rate is considerably higher . In the figure wherever the bars are higher than red line(global mean) then that feature is more likely to be placed. The amount of bar above and below the red line will indicate relative chance of placement or Not Placed"
   ]
  },
  {
   "cell_type": "code",
   "execution_count": null,
   "metadata": {},
   "outputs": [],
   "source": []
  },
  {
   "cell_type": "code",
   "execution_count": 347,
   "metadata": {},
   "outputs": [],
   "source": [
    "# splitting the train dataset to train and validation\n",
    "from sklearn.model_selection import train_test_split\n",
    "train,val = train_test_split(df_full_train,test_size=0.2,random_state=42)"
   ]
  },
  {
   "cell_type": "code",
   "execution_count": 348,
   "metadata": {},
   "outputs": [
    {
     "data": {
      "text/plain": [
       "((536, 13), (134, 13))"
      ]
     },
     "execution_count": 348,
     "metadata": {},
     "output_type": "execute_result"
    }
   ],
   "source": [
    "train.shape,val.shape"
   ]
  },
  {
   "cell_type": "code",
   "execution_count": 349,
   "metadata": {},
   "outputs": [],
   "source": [
    "# assigning X and y\n",
    "X_train = train.drop('status',axis=1)\n",
    "y_train = train['status']\n",
    "X_val = val.drop('status',axis=1)\n",
    "y_val = val['status']"
   ]
  },
  {
   "cell_type": "markdown",
   "metadata": {},
   "source": [
    "we will use dictvectorizer to convert cat columns to numeric"
   ]
  },
  {
   "cell_type": "code",
   "execution_count": 350,
   "metadata": {},
   "outputs": [],
   "source": [
    "from sklearn.feature_extraction import DictVectorizer\n",
    "dv = DictVectorizer(sparse=False)"
   ]
  },
  {
   "cell_type": "code",
   "execution_count": 351,
   "metadata": {},
   "outputs": [],
   "source": [
    "train_dict = X_train.to_dict(orient='records')\n",
    "X_train_encoded = dv.fit_transform(train_dict)"
   ]
  },
  {
   "cell_type": "code",
   "execution_count": 352,
   "metadata": {},
   "outputs": [
    {
     "data": {
      "text/plain": [
       "['degree_p',\n",
       " 'degree_t=Comm&Mgmt',\n",
       " 'degree_t=Others',\n",
       " 'degree_t=Sci&Tech',\n",
       " 'etest_p',\n",
       " 'gender=F',\n",
       " 'gender=M',\n",
       " 'hsc_b=Central',\n",
       " 'hsc_b=Others',\n",
       " 'hsc_p',\n",
       " 'hsc_s=Arts',\n",
       " 'hsc_s=Commerce',\n",
       " 'hsc_s=Science',\n",
       " 'mba_p',\n",
       " 'specialisation=Mkt&Fin',\n",
       " 'specialisation=Mkt&HR',\n",
       " 'ssc_b=Central',\n",
       " 'ssc_b=Others',\n",
       " 'ssc_p',\n",
       " 'workex=No',\n",
       " 'workex=Yes']"
      ]
     },
     "execution_count": 352,
     "metadata": {},
     "output_type": "execute_result"
    }
   ],
   "source": [
    "dv.get_feature_names()"
   ]
  },
  {
   "cell_type": "code",
   "execution_count": 353,
   "metadata": {},
   "outputs": [],
   "source": [
    "val_dict = X_val.to_dict(orient='records') #applying ohe for val data\n",
    "X_val_encoded = dv.transform(val_dict)"
   ]
  },
  {
   "cell_type": "code",
   "execution_count": 354,
   "metadata": {},
   "outputs": [
    {
     "data": {
      "text/plain": [
       "((536, 21), (536,), (134, 21), (134,))"
      ]
     },
     "execution_count": 354,
     "metadata": {},
     "output_type": "execute_result"
    }
   ],
   "source": [
    "X_train_encoded.shape,y_train.shape,X_val_encoded.shape,y_val.shape"
   ]
  },
  {
   "cell_type": "markdown",
   "metadata": {},
   "source": [
    "As the data preparation phase is over , we can build model in an iterative method"
   ]
  },
  {
   "cell_type": "code",
   "execution_count": 355,
   "metadata": {},
   "outputs": [],
   "source": [
    "#import necessary libraries\n",
    "from sklearn.linear_model import LogisticRegression\n",
    "from sklearn.tree import DecisionTreeClassifier\n",
    "from sklearn.neighbors import KNeighborsClassifier\n",
    "from sklearn.ensemble import RandomForestClassifier\n",
    "from sklearn.svm import SVC\n",
    "from xgboost import XGBClassifier\n",
    "from catboost import CatBoostClassifier\n",
    "from lightgbm import LGBMClassifier\n",
    "from sklearn import metrics"
   ]
  },
  {
   "cell_type": "code",
   "execution_count": 356,
   "metadata": {},
   "outputs": [],
   "source": [
    "import time\n",
    "from sklearn.metrics import accuracy_score\n",
    "start = time.time() #start of the block timer\n",
    "#model building with basic models\n",
    "def basic_model_building(model,X_train,y_train,X_test,y_test):\n",
    "    ''' This function takes in a model and train and test dataset\n",
    "        and returns model, train and test accuracy score \n",
    "        for a classification problem'''\n",
    "    clf = model\n",
    "    clf.fit(X_train,y_train) #fit the model\n",
    "    y_train_pred = clf.predict_proba(X_train)[:, 1] #prediction of trg set\n",
    "    y_pred = clf.predict_proba(X_test)[:, 1] #prediction of val set\n",
    "    train_acc = accuracy_score(y_train, y_train_pred >= 0.5)\n",
    "    val_acc = accuracy_score(y_val, y_pred >= 0.5)\n",
    "    return train_acc,val_acc"
   ]
  },
  {
   "cell_type": "code",
   "execution_count": 357,
   "metadata": {
    "scrolled": true
   },
   "outputs": [
    {
     "name": "stderr",
     "output_type": "stream",
     "text": [
      "C:\\Users\\dbazoneny\\anaconda3\\lib\\site-packages\\sklearn\\linear_model\\_logistic.py:763: ConvergenceWarning: lbfgs failed to converge (status=1):\n",
      "STOP: TOTAL NO. of ITERATIONS REACHED LIMIT.\n",
      "\n",
      "Increase the number of iterations (max_iter) or scale the data as shown in:\n",
      "    https://scikit-learn.org/stable/modules/preprocessing.html\n",
      "Please also refer to the documentation for alternative solver options:\n",
      "    https://scikit-learn.org/stable/modules/linear_model.html#logistic-regression\n",
      "  n_iter_i = _check_optimize_result(\n",
      "C:\\Users\\dbazoneny\\anaconda3\\lib\\site-packages\\xgboost\\sklearn.py:1146: UserWarning: The use of label encoder in XGBClassifier is deprecated and will be removed in a future release. To remove this warning, do the following: 1) Pass option use_label_encoder=False when constructing XGBClassifier object; and 2) Encode your labels (y) as integers starting with 0, i.e. 0, 1, 2, ..., [num_class - 1].\n",
      "  warnings.warn(label_encoder_deprecation_msg, UserWarning)\n"
     ]
    },
    {
     "name": "stdout",
     "output_type": "stream",
     "text": [
      "[10:25:40] WARNING: C:/Users/Administrator/workspace/xgboost-win64_release_1.4.0/src/learner.cc:1095: Starting in XGBoost 1.3.0, the default evaluation metric used with the objective 'binary:logistic' was changed from 'error' to 'logloss'. Explicitly set eval_metric if you'd like to restore the old behavior.\n",
      "Time elapsed: 2.967299222946167\n"
     ]
    }
   ],
   "source": [
    "# define a list of models and model_names\n",
    "models = [LogisticRegression(max_iter = 500),DecisionTreeClassifier(),\n",
    "          RandomForestClassifier(n_estimators=500),XGBClassifier(),LGBMClassifier(),CatBoostClassifier(verbose=0)]\n",
    "\n",
    "model_names = ['LogisticRegression','DecisionTree','RandomForest','XGB','LGBM','catboost']\n",
    "#create empty list for storing model specific metrics\n",
    "Training_accuracy =[]\n",
    "validation_accuracy =[]\n",
    "\n",
    "#call the function and get metrics\n",
    "for model in models:\n",
    "    train_acc,val_acc = basic_model_building(model,X_train_encoded,y_train,X_val_encoded,y_val)\n",
    "    validation_accuracy.append(val_acc)\n",
    "    Training_accuracy.append(train_acc)\n",
    "    \n",
    "    \n",
    "#create a df for model vs trg and testing accuracy\n",
    "acc_df =pd.DataFrame({'Model':model_names,'Training_Accuracy':Training_accuracy,\n",
    "                      'Validation_Accuracy':validation_accuracy,})\n",
    "\n",
    "end = time.time() #end of block timer\n",
    "print (\"Time elapsed:\", end - start)"
   ]
  },
  {
   "cell_type": "code",
   "execution_count": 358,
   "metadata": {},
   "outputs": [
    {
     "data": {
      "text/html": [
       "<div>\n",
       "<style scoped>\n",
       "    .dataframe tbody tr th:only-of-type {\n",
       "        vertical-align: middle;\n",
       "    }\n",
       "\n",
       "    .dataframe tbody tr th {\n",
       "        vertical-align: top;\n",
       "    }\n",
       "\n",
       "    .dataframe thead th {\n",
       "        text-align: right;\n",
       "    }\n",
       "</style>\n",
       "<table border=\"1\" class=\"dataframe\">\n",
       "  <thead>\n",
       "    <tr style=\"text-align: right;\">\n",
       "      <th></th>\n",
       "      <th>Model</th>\n",
       "      <th>Training_Accuracy</th>\n",
       "      <th>Validation_Accuracy</th>\n",
       "    </tr>\n",
       "  </thead>\n",
       "  <tbody>\n",
       "    <tr>\n",
       "      <th>0</th>\n",
       "      <td>LogisticRegression</td>\n",
       "      <td>0.916045</td>\n",
       "      <td>0.932836</td>\n",
       "    </tr>\n",
       "    <tr>\n",
       "      <th>1</th>\n",
       "      <td>DecisionTree</td>\n",
       "      <td>1.000000</td>\n",
       "      <td>0.932836</td>\n",
       "    </tr>\n",
       "    <tr>\n",
       "      <th>2</th>\n",
       "      <td>RandomForest</td>\n",
       "      <td>1.000000</td>\n",
       "      <td>0.962687</td>\n",
       "    </tr>\n",
       "    <tr>\n",
       "      <th>3</th>\n",
       "      <td>XGB</td>\n",
       "      <td>1.000000</td>\n",
       "      <td>0.940299</td>\n",
       "    </tr>\n",
       "    <tr>\n",
       "      <th>4</th>\n",
       "      <td>LGBM</td>\n",
       "      <td>1.000000</td>\n",
       "      <td>0.932836</td>\n",
       "    </tr>\n",
       "    <tr>\n",
       "      <th>5</th>\n",
       "      <td>catboost</td>\n",
       "      <td>1.000000</td>\n",
       "      <td>0.955224</td>\n",
       "    </tr>\n",
       "  </tbody>\n",
       "</table>\n",
       "</div>"
      ],
      "text/plain": [
       "                Model  Training_Accuracy  Validation_Accuracy\n",
       "0  LogisticRegression           0.916045             0.932836\n",
       "1        DecisionTree           1.000000             0.932836\n",
       "2        RandomForest           1.000000             0.962687\n",
       "3                 XGB           1.000000             0.940299\n",
       "4                LGBM           1.000000             0.932836\n",
       "5            catboost           1.000000             0.955224"
      ]
     },
     "execution_count": 358,
     "metadata": {},
     "output_type": "execute_result"
    }
   ],
   "source": [
    "acc_df"
   ]
  },
  {
   "cell_type": "markdown",
   "metadata": {},
   "source": [
    "We shall train the model on entire train set prior testing it on test set"
   ]
  },
  {
   "cell_type": "code",
   "execution_count": 359,
   "metadata": {},
   "outputs": [],
   "source": [
    "# create a full training dataset for final training prior using on test det\n",
    "X_full_trg = df_full_train.drop('status',axis=1)\n",
    "y_full_trg = df_full_train['status']\n",
    "full_trg_dicts =  X_full_trg.to_dict(orient='records')\n",
    "X_full_trg_encoded = dv.fit_transform(full_trg_dicts)"
   ]
  },
  {
   "cell_type": "code",
   "execution_count": 360,
   "metadata": {},
   "outputs": [],
   "source": [
    "# using model to predict on test set\n",
    "test_dict = df_test.to_dict(orient='records')\n",
    "X_test_encoded = dv.transform(test_dict)"
   ]
  },
  {
   "cell_type": "code",
   "execution_count": 361,
   "metadata": {},
   "outputs": [
    {
     "name": "stderr",
     "output_type": "stream",
     "text": [
      "C:\\Users\\dbazoneny\\anaconda3\\lib\\site-packages\\sklearn\\linear_model\\_logistic.py:763: ConvergenceWarning: lbfgs failed to converge (status=1):\n",
      "STOP: TOTAL NO. of ITERATIONS REACHED LIMIT.\n",
      "\n",
      "Increase the number of iterations (max_iter) or scale the data as shown in:\n",
      "    https://scikit-learn.org/stable/modules/preprocessing.html\n",
      "Please also refer to the documentation for alternative solver options:\n",
      "    https://scikit-learn.org/stable/modules/linear_model.html#logistic-regression\n",
      "  n_iter_i = _check_optimize_result(\n"
     ]
    }
   ],
   "source": [
    "#fitting LR on full trg dataset\n",
    "model = LogisticRegression(max_iter=500)\n",
    "model.fit(X_full_trg_encoded,y_full_trg)\n",
    "preds = model.predict(X_test_encoded) #prediction of val set"
   ]
  },
  {
   "cell_type": "code",
   "execution_count": 362,
   "metadata": {},
   "outputs": [
    {
     "data": {
      "text/plain": [
       "448"
      ]
     },
     "execution_count": 362,
     "metadata": {},
     "output_type": "execute_result"
    }
   ],
   "source": [
    "len(preds)"
   ]
  },
  {
   "cell_type": "code",
   "execution_count": 363,
   "metadata": {},
   "outputs": [
    {
     "data": {
      "text/plain": [
       "Placed        300\n",
       "Not Placed    148\n",
       "Name: prediction, dtype: int64"
      ]
     },
     "execution_count": 363,
     "metadata": {},
     "output_type": "execute_result"
    }
   ],
   "source": [
    "#creating submission file for test dataset\n",
    "df_preds = pd.DataFrame({'prediction': preds})\n",
    "df_preds['prediction'] = df_preds['prediction'].map({1:'Placed',0:'Not Placed'})\n",
    "df_preds.prediction.value_counts()"
   ]
  },
  {
   "cell_type": "code",
   "execution_count": 364,
   "metadata": {},
   "outputs": [],
   "source": [
    "#df_preds.to_csv('Submission_1.csv',index=False)"
   ]
  },
  {
   "attachments": {
    "image.png": {
     "image/png": "[encoded data removed]"
    }
   },
   "cell_type": "markdown",
   "metadata": {},
   "source": [
    "![image.png](attachment:image.png)\n"
   ]
  },
  {
   "cell_type": "markdown",
   "metadata": {},
   "source": [
    "The scores obtained on the dphi portal for the test dataset is seen above. "
   ]
  },
  {
   "cell_type": "markdown",
   "metadata": {},
   "source": [
    "### TUNING LOGISTIC REGRESSION MODEL"
   ]
  },
  {
   "cell_type": "code",
   "execution_count": 365,
   "metadata": {},
   "outputs": [
    {
     "name": "stdout",
     "output_type": "stream",
     "text": [
      "Best: 0.917413 using {'C': 0.1, 'penalty': 'l2', 'solver': 'lbfgs'}\n",
      "0.912438 (0.029784) with: {'C': 100, 'penalty': 'l2', 'solver': 'newton-cg'}\n",
      "0.910945 (0.029722) with: {'C': 100, 'penalty': 'l2', 'solver': 'lbfgs'}\n",
      "0.911940 (0.028411) with: {'C': 100, 'penalty': 'l2', 'solver': 'liblinear'}\n",
      "0.912935 (0.029871) with: {'C': 10, 'penalty': 'l2', 'solver': 'newton-cg'}\n",
      "0.913433 (0.028684) with: {'C': 10, 'penalty': 'l2', 'solver': 'lbfgs'}\n",
      "0.912438 (0.027985) with: {'C': 10, 'penalty': 'l2', 'solver': 'liblinear'}\n",
      "0.909950 (0.031891) with: {'C': 1.0, 'penalty': 'l2', 'solver': 'newton-cg'}\n",
      "0.916915 (0.028498) with: {'C': 1.0, 'penalty': 'l2', 'solver': 'lbfgs'}\n",
      "0.913433 (0.028424) with: {'C': 1.0, 'penalty': 'l2', 'solver': 'liblinear'}\n",
      "0.906965 (0.026611) with: {'C': 0.1, 'penalty': 'l2', 'solver': 'newton-cg'}\n",
      "0.917413 (0.029027) with: {'C': 0.1, 'penalty': 'l2', 'solver': 'lbfgs'}\n",
      "0.915920 (0.025412) with: {'C': 0.1, 'penalty': 'l2', 'solver': 'liblinear'}\n",
      "0.911443 (0.028563) with: {'C': 0.01, 'penalty': 'l2', 'solver': 'newton-cg'}\n",
      "0.910945 (0.028445) with: {'C': 0.01, 'penalty': 'l2', 'solver': 'lbfgs'}\n",
      "0.885572 (0.037230) with: {'C': 0.01, 'penalty': 'l2', 'solver': 'liblinear'}\n"
     ]
    },
    {
     "name": "stderr",
     "output_type": "stream",
     "text": [
      "C:\\Users\\dbazoneny\\anaconda3\\lib\\site-packages\\sklearn\\linear_model\\_logistic.py:763: ConvergenceWarning: lbfgs failed to converge (status=1):\n",
      "STOP: TOTAL NO. of ITERATIONS REACHED LIMIT.\n",
      "\n",
      "Increase the number of iterations (max_iter) or scale the data as shown in:\n",
      "    https://scikit-learn.org/stable/modules/preprocessing.html\n",
      "Please also refer to the documentation for alternative solver options:\n",
      "    https://scikit-learn.org/stable/modules/linear_model.html#logistic-regression\n",
      "  n_iter_i = _check_optimize_result(\n"
     ]
    }
   ],
   "source": [
    "from sklearn.model_selection import RepeatedStratifiedKFold\n",
    "from sklearn.model_selection import GridSearchCV\n",
    "from sklearn.linear_model import LogisticRegression\n",
    "\n",
    "# define models and parameters\n",
    "model = LogisticRegression()\n",
    "solvers = ['newton-cg', 'lbfgs', 'liblinear']\n",
    "penalty = ['l2']\n",
    "c_values = [100, 10, 1.0, 0.1, 0.01]\n",
    "# define grid search\n",
    "grid = dict(solver=solvers,penalty=penalty,C=c_values)\n",
    "cv = RepeatedStratifiedKFold(n_splits=10, n_repeats=3, random_state=1)\n",
    "grid_search = GridSearchCV(estimator=model, param_grid=grid, n_jobs=-1, cv=cv, scoring='accuracy',error_score=0)\n",
    "grid_result = grid_search.fit(X_full_trg_encoded,y_full_trg)\n",
    "# summarize results\n",
    "print(\"Best: %f using %s\" % (grid_result.best_score_, grid_result.best_params_))\n",
    "means = grid_result.cv_results_['mean_test_score']\n",
    "stds = grid_result.cv_results_['std_test_score']\n",
    "params = grid_result.cv_results_['params']\n",
    "for mean, stdev, param in zip(means, stds, params):\n",
    "    print(\"%f (%f) with: %r\" % (mean, stdev, param))"
   ]
  },
  {
   "cell_type": "code",
   "execution_count": 366,
   "metadata": {},
   "outputs": [],
   "source": [
    "#fit tuned LR on entire trg set\n",
    "model = LogisticRegression(max_iter=500,C= 0.1, penalty= 'l2',solver= 'lbfgs')\n",
    "model.fit(X_full_trg_encoded,y_full_trg)\n",
    "preds = model.predict(X_test_encoded) #prediction of test set"
   ]
  },
  {
   "cell_type": "code",
   "execution_count": 367,
   "metadata": {},
   "outputs": [],
   "source": [
    "df_preds = pd.DataFrame({'prediction': preds})\n",
    "df_preds['prediction'] = df_preds['prediction'].map({1:'Placed',0:'Not Placed'})\n",
    "#df_preds.to_csv('Submission_2.csv',index=False)"
   ]
  },
  {
   "attachments": {
    "image.png": {
     "image/png": "[encoded data removed]"
    }
   },
   "cell_type": "markdown",
   "metadata": {},
   "source": [
    "![image.png](attachment:image.png)"
   ]
  },
  {
   "cell_type": "markdown",
   "metadata": {},
   "source": [
    "The scores obtained for tuned LR is marginally less than default LR. "
   ]
  },
  {
   "cell_type": "markdown",
   "metadata": {},
   "source": [
    "## RANDOM FOREST TUNING"
   ]
  },
  {
   "cell_type": "code",
   "execution_count": 368,
   "metadata": {},
   "outputs": [
    {
     "name": "stdout",
     "output_type": "stream",
     "text": [
      "Best: [0.89555209 0.89738664 0.90301142 0.90297681 0.90669782 0.95154033\n",
      " 0.94591554 0.95524403 0.95711319 0.95711319 0.95337487 0.95711319\n",
      " 0.95711319 0.95898235 0.95711319], using {'max_depth': 16, 'n_estimators': 512}\n"
     ]
    },
    {
     "data": {
      "text/html": [
       "<div>\n",
       "<style scoped>\n",
       "    .dataframe tbody tr th:only-of-type {\n",
       "        vertical-align: middle;\n",
       "    }\n",
       "\n",
       "    .dataframe tbody tr th {\n",
       "        vertical-align: top;\n",
       "    }\n",
       "\n",
       "    .dataframe thead th {\n",
       "        text-align: right;\n",
       "    }\n",
       "</style>\n",
       "<table border=\"1\" class=\"dataframe\">\n",
       "  <thead>\n",
       "    <tr style=\"text-align: right;\">\n",
       "      <th></th>\n",
       "      <th>mean_fit_time</th>\n",
       "      <th>std_fit_time</th>\n",
       "      <th>mean_score_time</th>\n",
       "      <th>std_score_time</th>\n",
       "      <th>param_max_depth</th>\n",
       "      <th>param_n_estimators</th>\n",
       "      <th>params</th>\n",
       "      <th>split0_test_score</th>\n",
       "      <th>split1_test_score</th>\n",
       "      <th>split2_test_score</th>\n",
       "      <th>split3_test_score</th>\n",
       "      <th>split4_test_score</th>\n",
       "      <th>mean_test_score</th>\n",
       "      <th>std_test_score</th>\n",
       "      <th>rank_test_score</th>\n",
       "    </tr>\n",
       "  </thead>\n",
       "  <tbody>\n",
       "    <tr>\n",
       "      <th>0</th>\n",
       "      <td>0.087352</td>\n",
       "      <td>0.007521</td>\n",
       "      <td>0.007259</td>\n",
       "      <td>0.007075</td>\n",
       "      <td>2</td>\n",
       "      <td>64</td>\n",
       "      <td>{'max_depth': 2, 'n_estimators': 64}</td>\n",
       "      <td>0.879630</td>\n",
       "      <td>0.878505</td>\n",
       "      <td>0.906542</td>\n",
       "      <td>0.869159</td>\n",
       "      <td>0.943925</td>\n",
       "      <td>0.895552</td>\n",
       "      <td>0.027208</td>\n",
       "      <td>15</td>\n",
       "    </tr>\n",
       "    <tr>\n",
       "      <th>1</th>\n",
       "      <td>0.164477</td>\n",
       "      <td>0.006834</td>\n",
       "      <td>0.012501</td>\n",
       "      <td>0.006251</td>\n",
       "      <td>2</td>\n",
       "      <td>128</td>\n",
       "      <td>{'max_depth': 2, 'n_estimators': 128}</td>\n",
       "      <td>0.898148</td>\n",
       "      <td>0.878505</td>\n",
       "      <td>0.925234</td>\n",
       "      <td>0.859813</td>\n",
       "      <td>0.925234</td>\n",
       "      <td>0.897387</td>\n",
       "      <td>0.025767</td>\n",
       "      <td>14</td>\n",
       "    </tr>\n",
       "    <tr>\n",
       "      <th>2</th>\n",
       "      <td>0.307915</td>\n",
       "      <td>0.003726</td>\n",
       "      <td>0.014509</td>\n",
       "      <td>0.002233</td>\n",
       "      <td>2</td>\n",
       "      <td>256</td>\n",
       "      <td>{'max_depth': 2, 'n_estimators': 256}</td>\n",
       "      <td>0.888889</td>\n",
       "      <td>0.878505</td>\n",
       "      <td>0.934579</td>\n",
       "      <td>0.878505</td>\n",
       "      <td>0.934579</td>\n",
       "      <td>0.903011</td>\n",
       "      <td>0.026053</td>\n",
       "      <td>12</td>\n",
       "    </tr>\n",
       "    <tr>\n",
       "      <th>3</th>\n",
       "      <td>0.619893</td>\n",
       "      <td>0.007596</td>\n",
       "      <td>0.036396</td>\n",
       "      <td>0.006540</td>\n",
       "      <td>2</td>\n",
       "      <td>512</td>\n",
       "      <td>{'max_depth': 2, 'n_estimators': 512}</td>\n",
       "      <td>0.907407</td>\n",
       "      <td>0.878505</td>\n",
       "      <td>0.925234</td>\n",
       "      <td>0.869159</td>\n",
       "      <td>0.934579</td>\n",
       "      <td>0.902977</td>\n",
       "      <td>0.025520</td>\n",
       "      <td>13</td>\n",
       "    </tr>\n",
       "    <tr>\n",
       "      <th>4</th>\n",
       "      <td>1.209585</td>\n",
       "      <td>0.010526</td>\n",
       "      <td>0.084374</td>\n",
       "      <td>0.007655</td>\n",
       "      <td>2</td>\n",
       "      <td>1024</td>\n",
       "      <td>{'max_depth': 2, 'n_estimators': 1024}</td>\n",
       "      <td>0.916667</td>\n",
       "      <td>0.878505</td>\n",
       "      <td>0.934579</td>\n",
       "      <td>0.869159</td>\n",
       "      <td>0.934579</td>\n",
       "      <td>0.906698</td>\n",
       "      <td>0.027778</td>\n",
       "      <td>11</td>\n",
       "    </tr>\n",
       "    <tr>\n",
       "      <th>5</th>\n",
       "      <td>0.087500</td>\n",
       "      <td>0.007658</td>\n",
       "      <td>0.003125</td>\n",
       "      <td>0.006250</td>\n",
       "      <td>8</td>\n",
       "      <td>64</td>\n",
       "      <td>{'max_depth': 8, 'n_estimators': 64}</td>\n",
       "      <td>0.925926</td>\n",
       "      <td>0.953271</td>\n",
       "      <td>0.962617</td>\n",
       "      <td>0.953271</td>\n",
       "      <td>0.962617</td>\n",
       "      <td>0.951540</td>\n",
       "      <td>0.013472</td>\n",
       "      <td>9</td>\n",
       "    </tr>\n",
       "    <tr>\n",
       "      <th>6</th>\n",
       "      <td>0.168791</td>\n",
       "      <td>0.006249</td>\n",
       "      <td>0.012650</td>\n",
       "      <td>0.006331</td>\n",
       "      <td>8</td>\n",
       "      <td>128</td>\n",
       "      <td>{'max_depth': 8, 'n_estimators': 128}</td>\n",
       "      <td>0.935185</td>\n",
       "      <td>0.943925</td>\n",
       "      <td>0.962617</td>\n",
       "      <td>0.934579</td>\n",
       "      <td>0.953271</td>\n",
       "      <td>0.945916</td>\n",
       "      <td>0.010776</td>\n",
       "      <td>10</td>\n",
       "    </tr>\n",
       "    <tr>\n",
       "      <th>7</th>\n",
       "      <td>0.330489</td>\n",
       "      <td>0.006929</td>\n",
       "      <td>0.021876</td>\n",
       "      <td>0.007655</td>\n",
       "      <td>8</td>\n",
       "      <td>256</td>\n",
       "      <td>{'max_depth': 8, 'n_estimators': 256}</td>\n",
       "      <td>0.944444</td>\n",
       "      <td>0.943925</td>\n",
       "      <td>0.981308</td>\n",
       "      <td>0.943925</td>\n",
       "      <td>0.962617</td>\n",
       "      <td>0.955244</td>\n",
       "      <td>0.014877</td>\n",
       "      <td>7</td>\n",
       "    </tr>\n",
       "    <tr>\n",
       "      <th>8</th>\n",
       "      <td>0.684531</td>\n",
       "      <td>0.008309</td>\n",
       "      <td>0.046875</td>\n",
       "      <td>0.000002</td>\n",
       "      <td>8</td>\n",
       "      <td>512</td>\n",
       "      <td>{'max_depth': 8, 'n_estimators': 512}</td>\n",
       "      <td>0.944444</td>\n",
       "      <td>0.953271</td>\n",
       "      <td>0.971963</td>\n",
       "      <td>0.953271</td>\n",
       "      <td>0.962617</td>\n",
       "      <td>0.957113</td>\n",
       "      <td>0.009390</td>\n",
       "      <td>2</td>\n",
       "    </tr>\n",
       "    <tr>\n",
       "      <th>9</th>\n",
       "      <td>1.357273</td>\n",
       "      <td>0.025874</td>\n",
       "      <td>0.092907</td>\n",
       "      <td>0.001685</td>\n",
       "      <td>8</td>\n",
       "      <td>1024</td>\n",
       "      <td>{'max_depth': 8, 'n_estimators': 1024}</td>\n",
       "      <td>0.944444</td>\n",
       "      <td>0.953271</td>\n",
       "      <td>0.971963</td>\n",
       "      <td>0.953271</td>\n",
       "      <td>0.962617</td>\n",
       "      <td>0.957113</td>\n",
       "      <td>0.009390</td>\n",
       "      <td>2</td>\n",
       "    </tr>\n",
       "    <tr>\n",
       "      <th>10</th>\n",
       "      <td>0.080146</td>\n",
       "      <td>0.004041</td>\n",
       "      <td>0.012500</td>\n",
       "      <td>0.006250</td>\n",
       "      <td>16</td>\n",
       "      <td>64</td>\n",
       "      <td>{'max_depth': 16, 'n_estimators': 64}</td>\n",
       "      <td>0.944444</td>\n",
       "      <td>0.971963</td>\n",
       "      <td>0.953271</td>\n",
       "      <td>0.953271</td>\n",
       "      <td>0.943925</td>\n",
       "      <td>0.953375</td>\n",
       "      <td>0.010145</td>\n",
       "      <td>8</td>\n",
       "    </tr>\n",
       "    <tr>\n",
       "      <th>11</th>\n",
       "      <td>0.174958</td>\n",
       "      <td>0.006161</td>\n",
       "      <td>0.013757</td>\n",
       "      <td>0.003739</td>\n",
       "      <td>16</td>\n",
       "      <td>128</td>\n",
       "      <td>{'max_depth': 16, 'n_estimators': 128}</td>\n",
       "      <td>0.944444</td>\n",
       "      <td>0.953271</td>\n",
       "      <td>0.962617</td>\n",
       "      <td>0.962617</td>\n",
       "      <td>0.962617</td>\n",
       "      <td>0.957113</td>\n",
       "      <td>0.007296</td>\n",
       "      <td>2</td>\n",
       "    </tr>\n",
       "    <tr>\n",
       "      <th>12</th>\n",
       "      <td>0.346170</td>\n",
       "      <td>0.004535</td>\n",
       "      <td>0.020772</td>\n",
       "      <td>0.006541</td>\n",
       "      <td>16</td>\n",
       "      <td>256</td>\n",
       "      <td>{'max_depth': 16, 'n_estimators': 256}</td>\n",
       "      <td>0.944444</td>\n",
       "      <td>0.943925</td>\n",
       "      <td>0.971963</td>\n",
       "      <td>0.962617</td>\n",
       "      <td>0.962617</td>\n",
       "      <td>0.957113</td>\n",
       "      <td>0.011095</td>\n",
       "      <td>2</td>\n",
       "    </tr>\n",
       "    <tr>\n",
       "      <th>13</th>\n",
       "      <td>0.705266</td>\n",
       "      <td>0.014678</td>\n",
       "      <td>0.046879</td>\n",
       "      <td>0.000009</td>\n",
       "      <td>16</td>\n",
       "      <td>512</td>\n",
       "      <td>{'max_depth': 16, 'n_estimators': 512}</td>\n",
       "      <td>0.944444</td>\n",
       "      <td>0.953271</td>\n",
       "      <td>0.971963</td>\n",
       "      <td>0.962617</td>\n",
       "      <td>0.962617</td>\n",
       "      <td>0.958982</td>\n",
       "      <td>0.009369</td>\n",
       "      <td>1</td>\n",
       "    </tr>\n",
       "    <tr>\n",
       "      <th>14</th>\n",
       "      <td>1.359144</td>\n",
       "      <td>0.028245</td>\n",
       "      <td>0.090624</td>\n",
       "      <td>0.006250</td>\n",
       "      <td>16</td>\n",
       "      <td>1024</td>\n",
       "      <td>{'max_depth': 16, 'n_estimators': 1024}</td>\n",
       "      <td>0.944444</td>\n",
       "      <td>0.953271</td>\n",
       "      <td>0.971963</td>\n",
       "      <td>0.953271</td>\n",
       "      <td>0.962617</td>\n",
       "      <td>0.957113</td>\n",
       "      <td>0.009390</td>\n",
       "      <td>2</td>\n",
       "    </tr>\n",
       "  </tbody>\n",
       "</table>\n",
       "</div>"
      ],
      "text/plain": [
       "    mean_fit_time  std_fit_time  mean_score_time  std_score_time  \\\n",
       "0        0.087352      0.007521         0.007259        0.007075   \n",
       "1        0.164477      0.006834         0.012501        0.006251   \n",
       "2        0.307915      0.003726         0.014509        0.002233   \n",
       "3        0.619893      0.007596         0.036396        0.006540   \n",
       "4        1.209585      0.010526         0.084374        0.007655   \n",
       "5        0.087500      0.007658         0.003125        0.006250   \n",
       "6        0.168791      0.006249         0.012650        0.006331   \n",
       "7        0.330489      0.006929         0.021876        0.007655   \n",
       "8        0.684531      0.008309         0.046875        0.000002   \n",
       "9        1.357273      0.025874         0.092907        0.001685   \n",
       "10       0.080146      0.004041         0.012500        0.006250   \n",
       "11       0.174958      0.006161         0.013757        0.003739   \n",
       "12       0.346170      0.004535         0.020772        0.006541   \n",
       "13       0.705266      0.014678         0.046879        0.000009   \n",
       "14       1.359144      0.028245         0.090624        0.006250   \n",
       "\n",
       "   param_max_depth param_n_estimators  \\\n",
       "0                2                 64   \n",
       "1                2                128   \n",
       "2                2                256   \n",
       "3                2                512   \n",
       "4                2               1024   \n",
       "5                8                 64   \n",
       "6                8                128   \n",
       "7                8                256   \n",
       "8                8                512   \n",
       "9                8               1024   \n",
       "10              16                 64   \n",
       "11              16                128   \n",
       "12              16                256   \n",
       "13              16                512   \n",
       "14              16               1024   \n",
       "\n",
       "                                     params  split0_test_score  \\\n",
       "0      {'max_depth': 2, 'n_estimators': 64}           0.879630   \n",
       "1     {'max_depth': 2, 'n_estimators': 128}           0.898148   \n",
       "2     {'max_depth': 2, 'n_estimators': 256}           0.888889   \n",
       "3     {'max_depth': 2, 'n_estimators': 512}           0.907407   \n",
       "4    {'max_depth': 2, 'n_estimators': 1024}           0.916667   \n",
       "5      {'max_depth': 8, 'n_estimators': 64}           0.925926   \n",
       "6     {'max_depth': 8, 'n_estimators': 128}           0.935185   \n",
       "7     {'max_depth': 8, 'n_estimators': 256}           0.944444   \n",
       "8     {'max_depth': 8, 'n_estimators': 512}           0.944444   \n",
       "9    {'max_depth': 8, 'n_estimators': 1024}           0.944444   \n",
       "10    {'max_depth': 16, 'n_estimators': 64}           0.944444   \n",
       "11   {'max_depth': 16, 'n_estimators': 128}           0.944444   \n",
       "12   {'max_depth': 16, 'n_estimators': 256}           0.944444   \n",
       "13   {'max_depth': 16, 'n_estimators': 512}           0.944444   \n",
       "14  {'max_depth': 16, 'n_estimators': 1024}           0.944444   \n",
       "\n",
       "    split1_test_score  split2_test_score  split3_test_score  \\\n",
       "0            0.878505           0.906542           0.869159   \n",
       "1            0.878505           0.925234           0.859813   \n",
       "2            0.878505           0.934579           0.878505   \n",
       "3            0.878505           0.925234           0.869159   \n",
       "4            0.878505           0.934579           0.869159   \n",
       "5            0.953271           0.962617           0.953271   \n",
       "6            0.943925           0.962617           0.934579   \n",
       "7            0.943925           0.981308           0.943925   \n",
       "8            0.953271           0.971963           0.953271   \n",
       "9            0.953271           0.971963           0.953271   \n",
       "10           0.971963           0.953271           0.953271   \n",
       "11           0.953271           0.962617           0.962617   \n",
       "12           0.943925           0.971963           0.962617   \n",
       "13           0.953271           0.971963           0.962617   \n",
       "14           0.953271           0.971963           0.953271   \n",
       "\n",
       "    split4_test_score  mean_test_score  std_test_score  rank_test_score  \n",
       "0            0.943925         0.895552        0.027208               15  \n",
       "1            0.925234         0.897387        0.025767               14  \n",
       "2            0.934579         0.903011        0.026053               12  \n",
       "3            0.934579         0.902977        0.025520               13  \n",
       "4            0.934579         0.906698        0.027778               11  \n",
       "5            0.962617         0.951540        0.013472                9  \n",
       "6            0.953271         0.945916        0.010776               10  \n",
       "7            0.962617         0.955244        0.014877                7  \n",
       "8            0.962617         0.957113        0.009390                2  \n",
       "9            0.962617         0.957113        0.009390                2  \n",
       "10           0.943925         0.953375        0.010145                8  \n",
       "11           0.962617         0.957113        0.007296                2  \n",
       "12           0.962617         0.957113        0.011095                2  \n",
       "13           0.962617         0.958982        0.009369                1  \n",
       "14           0.962617         0.957113        0.009390                2  "
      ]
     },
     "execution_count": 368,
     "metadata": {},
     "output_type": "execute_result"
    }
   ],
   "source": [
    "# Define Parameters\n",
    "max_depth=[2, 8, 16]\n",
    "n_estimators = [64, 128, 256,512,1024]\n",
    "param_grid = dict(max_depth=max_depth, n_estimators=n_estimators)\n",
    "\n",
    "# Build the grid search\n",
    "dfrst = RandomForestClassifier(n_estimators=n_estimators, max_depth=max_depth)\n",
    "grid = GridSearchCV(estimator=dfrst, param_grid=param_grid, cv = 5)\n",
    "grid_results = grid.fit(X_train_encoded, y_train)\n",
    "\n",
    "# Summarize the results in a readable format\n",
    "print(\"Best: {0}, using {1}\".format(grid_results.cv_results_['mean_test_score'], grid_results.best_params_))\n",
    "results_df = pd.DataFrame(grid_results.cv_results_)\n",
    "results_df"
   ]
  },
  {
   "cell_type": "code",
   "execution_count": 369,
   "metadata": {},
   "outputs": [],
   "source": [
    "#Fit the tuned RF on entire training dataset and use it for prediction on test datatset\n",
    "model_rf = RandomForestClassifier(max_depth=16, n_estimators= 512)\n",
    "model_rf.fit(X_full_trg_encoded,y_full_trg)\n",
    "preds = model_rf.predict(X_test_encoded) #prediction of test set\n",
    "df_preds = pd.DataFrame({'prediction': preds}) #making a dataframe on predictions\n",
    "df_preds['prediction'] = df_preds['prediction'].map({1:'Placed',0:'Not Placed'})\n",
    "#df_preds.to_csv('Submission_3.csv',index=False) #creating a submissions file"
   ]
  },
  {
   "attachments": {
    "image.png": {
     "image/png": "[encoded data removed]"
    }
   },
   "cell_type": "markdown",
   "metadata": {},
   "source": [
    "![image.png](attachment:image.png)"
   ]
  },
  {
   "attachments": {
    "image.png": {
     "image/png": "[encoded data removed]"
    }
   },
   "cell_type": "markdown",
   "metadata": {},
   "source": [
    "![image.png](attachment:image.png)"
   ]
  },
  {
   "cell_type": "markdown",
   "metadata": {},
   "source": [
    "As seen above the Tuned RFClassifier has performed well on test dataset(unseen data) and we can use this as our final model. There is a possibility the other models like xgboost, LGBM , catboost could provide a better model if tuned. However seeing the marginal improvement which can come out of such exercise it is not being explored further. It is also opined that scaling the continuous features may provide marginal improvement but RF model is a tree based model and scaling the data may not help much.  We will use pickle to save this model as well as the dictvectorizer"
   ]
  },
  {
   "cell_type": "markdown",
   "metadata": {},
   "source": [
    "### saving the model"
   ]
  },
  {
   "cell_type": "code",
   "execution_count": 370,
   "metadata": {},
   "outputs": [],
   "source": [
    "import pickle\n",
    "with open(\"project1_model\",\"wb\") as f_out:\n",
    "    pickle.dump((dv,model),f_out)"
   ]
  },
  {
   "cell_type": "code",
   "execution_count": 379,
   "metadata": {},
   "outputs": [],
   "source": [
    "#loading the model and check\n",
    "with open(\"project1_model\",\"rb\") as f_in:\n",
    "    dv,model_loaded = pickle.load(f_in)"
   ]
  },
  {
   "cell_type": "code",
   "execution_count": 380,
   "metadata": {},
   "outputs": [
    {
     "data": {
      "text/html": [
       "<div>\n",
       "<style scoped>\n",
       "    .dataframe tbody tr th:only-of-type {\n",
       "        vertical-align: middle;\n",
       "    }\n",
       "\n",
       "    .dataframe tbody tr th {\n",
       "        vertical-align: top;\n",
       "    }\n",
       "\n",
       "    .dataframe thead th {\n",
       "        text-align: right;\n",
       "    }\n",
       "</style>\n",
       "<table border=\"1\" class=\"dataframe\">\n",
       "  <thead>\n",
       "    <tr style=\"text-align: right;\">\n",
       "      <th></th>\n",
       "      <th>gender</th>\n",
       "      <th>ssc_p</th>\n",
       "      <th>ssc_b</th>\n",
       "      <th>hsc_p</th>\n",
       "      <th>hsc_b</th>\n",
       "      <th>hsc_s</th>\n",
       "      <th>degree_p</th>\n",
       "      <th>degree_t</th>\n",
       "      <th>etest_p</th>\n",
       "      <th>mba_p</th>\n",
       "      <th>specialisation</th>\n",
       "      <th>workex</th>\n",
       "      <th>status</th>\n",
       "    </tr>\n",
       "  </thead>\n",
       "  <tbody>\n",
       "    <tr>\n",
       "      <th>361</th>\n",
       "      <td>M</td>\n",
       "      <td>71.0</td>\n",
       "      <td>Central</td>\n",
       "      <td>58.66</td>\n",
       "      <td>Central</td>\n",
       "      <td>Science</td>\n",
       "      <td>58.0</td>\n",
       "      <td>Sci&amp;Tech</td>\n",
       "      <td>56.0</td>\n",
       "      <td>61.3</td>\n",
       "      <td>Mkt&amp;Fin</td>\n",
       "      <td>Yes</td>\n",
       "      <td>1</td>\n",
       "    </tr>\n",
       "  </tbody>\n",
       "</table>\n",
       "</div>"
      ],
      "text/plain": [
       "    gender  ssc_p    ssc_b  hsc_p    hsc_b    hsc_s  degree_p  degree_t  \\\n",
       "361      M   71.0  Central  58.66  Central  Science      58.0  Sci&Tech   \n",
       "\n",
       "     etest_p  mba_p specialisation workex  status  \n",
       "361     56.0   61.3        Mkt&Fin    Yes       1  "
      ]
     },
     "execution_count": 380,
     "metadata": {},
     "output_type": "execute_result"
    }
   ],
   "source": [
    "check_data = val[:1] # lets look at first data in validation datset for checks\n",
    "check_data"
   ]
  },
  {
   "cell_type": "code",
   "execution_count": 381,
   "metadata": {},
   "outputs": [
    {
     "data": {
      "text/plain": [
       "[{'gender': 'M',\n",
       "  'ssc_p': 71.0,\n",
       "  'ssc_b': 'Central',\n",
       "  'hsc_p': 58.66,\n",
       "  'hsc_b': 'Central',\n",
       "  'hsc_s': 'Science',\n",
       "  'degree_p': 58.0,\n",
       "  'degree_t': 'Sci&Tech',\n",
       "  'etest_p': 56.0,\n",
       "  'mba_p': 61.3,\n",
       "  'specialisation': 'Mkt&Fin',\n",
       "  'workex': 'Yes',\n",
       "  'status': 1}]"
      ]
     },
     "execution_count": 381,
     "metadata": {},
     "output_type": "execute_result"
    }
   ],
   "source": [
    "check_dict = check_data.to_dict(orient='records')\n",
    "check_dict"
   ]
  },
  {
   "cell_type": "code",
   "execution_count": 383,
   "metadata": {},
   "outputs": [
    {
     "data": {
      "text/plain": [
       "array([0.7132981])"
      ]
     },
     "execution_count": 383,
     "metadata": {},
     "output_type": "execute_result"
    }
   ],
   "source": [
    "check_encoded = dv.transform(check_dict)\n",
    "model_loaded.predict_proba(check_encoded)[:,1]"
   ]
  },
  {
   "cell_type": "markdown",
   "metadata": {},
   "source": [
    "The model predicts correctly that the candidate will be placed with probability of 71% and hence assigned status as 'Placed'."
   ]
  },
  {
   "cell_type": "code",
   "execution_count": null,
   "metadata": {},
   "outputs": [],
   "source": []
  },
  {
   "cell_type": "code",
   "execution_count": null,
   "metadata": {},
   "outputs": [],
   "source": []
  },
  {
   "cell_type": "code",
   "execution_count": null,
   "metadata": {},
   "outputs": [],
   "source": []
  }
 ],
 "metadata": {
  "kernelspec": {
   "display_name": "Python 3",
   "language": "python",
   "name": "python3"
  },
  "language_info": {
   "codemirror_mode": {
    "name": "ipython",
    "version": 3
   },
   "file_extension": ".py",
   "mimetype": "text/x-python",
   "name": "python",
   "nbconvert_exporter": "python",
   "pygments_lexer": "ipython3",
   "version": "3.7.4"
  }
 },
 "nbformat": 4,
 "nbformat_minor": 4
}
